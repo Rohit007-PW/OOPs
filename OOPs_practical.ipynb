{
 "cells": [
  {
   "cell_type": "markdown",
   "id": "ffa7d76b-e128-48b6-aef3-07e33189ad6f",
   "metadata": {},
   "source": [
    "# OOPs_practical"
   ]
  },
  {
   "cell_type": "markdown",
   "id": "1f3d368f-08bd-41ea-9b1b-c481ad306250",
   "metadata": {},
   "source": [
    "### Q1---Create a parent class Animal with a method speak() that prints a generic message. Create a child class Dogthat overrides the speak() method to print \"Bark!\""
   ]
  },
  {
   "cell_type": "code",
   "execution_count": 37,
   "id": "55495ea1-a7cf-4fdd-998f-76dd107f7b7f",
   "metadata": {},
   "outputs": [
    {
     "name": "stdout",
     "output_type": "stream",
     "text": [
      "Bark!\n"
     ]
    }
   ],
   "source": [
    "class Animal:\n",
    "    def speak(self):\n",
    "        print(\"Generic animal sound\")\n",
    "\n",
    "class Dog(Animal):\n",
    "    def speak(self):\n",
    "        print(\"Bark!\")\n",
    "\n",
    "dog = Dog()\n",
    "dog.speak()  "
   ]
  },
  {
   "cell_type": "markdown",
   "id": "6949f524-867c-4dac-a63a-187d6938c1b5",
   "metadata": {},
   "source": [
    "### Q2--- Write a program to create an abstract class Shape with a method area(). Derive classes Circle and Rectanglefrom it and implement the area() method in both."
   ]
  },
  {
   "cell_type": "code",
   "execution_count": 38,
   "id": "9ee323a6-7f04-4f77-a390-1fe17bceb68a",
   "metadata": {},
   "outputs": [
    {
     "name": "stdout",
     "output_type": "stream",
     "text": [
      "Circle Area: 78.53981633974483\n",
      "Rectangle Area: 24\n"
     ]
    }
   ],
   "source": [
    "from abc import ABC, abstractmethod\n",
    "import math\n",
    "\n",
    "class Shape(ABC):\n",
    "    @abstractmethod\n",
    "    def area(self):\n",
    "        pass\n",
    "\n",
    "class Circle(Shape):\n",
    "    def __init__(self, radius):\n",
    "        self.radius = radius\n",
    "    def area(self):\n",
    "        return math.pi * self.radius ** 2\n",
    "\n",
    "class Rectangle(Shape):\n",
    "    def __init__(self, width, height):\n",
    "        self.width = width\n",
    "        self.height = height\n",
    "    def area(self):\n",
    "        return self.width * self.height\n",
    "\n",
    "circle = Circle(5)\n",
    "rectangle = Rectangle(4, 6)\n",
    "\n",
    "print(f\"Circle Area: {circle.area()}\")\n",
    "print(f\"Rectangle Area: {rectangle.area()}\")"
   ]
  },
  {
   "cell_type": "markdown",
   "id": "92fd89cc-1ba3-49c2-9a9d-a45346cb1a1f",
   "metadata": {},
   "source": [
    "### Q3---Implement a multi-level inheritance scenario where a class Vehicle has an attribute type. Derive a class Carand further derive a class ElectricCar that adds a battery attribute"
   ]
  },
  {
   "cell_type": "code",
   "execution_count": 39,
   "id": "343fbf53-9b5a-461d-90fe-27ce3834a603",
   "metadata": {},
   "outputs": [
    {
     "name": "stdout",
     "output_type": "stream",
     "text": [
      "Vehicle Type: Electric\n",
      "Car Model: Tesla Model S\n",
      "Battery: 100 kWh\n"
     ]
    }
   ],
   "source": [
    "class Vehicle:\n",
    "    def __init__(self, type):\n",
    "        self.type = type\n",
    "\n",
    "    def display_type(self):\n",
    "        print(f\"Vehicle Type: {self.type}\")\n",
    "\n",
    "class Car(Vehicle):\n",
    "    def __init__(self, type, model):\n",
    "        super().__init__(type)\n",
    "        self.model = model\n",
    "\n",
    "    def display_model(self):\n",
    "        print(f\"Car Model: {self.model}\")\n",
    "\n",
    "class ElectricCar(Car):\n",
    "    def __init__(self, type, model, battery):\n",
    "        super().__init__(type, model)  \n",
    "        self.battery = battery\n",
    "\n",
    "    def display_battery(self):\n",
    "        print(f\"Battery: {self.battery} kWh\")\n",
    "\n",
    "electric_car = ElectricCar(\"Electric\", \"Tesla Model S\", 100)\n",
    "\n",
    "electric_car.display_type()  \n",
    "electric_car.display_model()  \n",
    "electric_car.display_battery()  "
   ]
  },
  {
   "cell_type": "markdown",
   "id": "f103b6df-c03f-4ec3-8972-71c81e3f1dfb",
   "metadata": {},
   "source": [
    "### Q4---Implement a multi-level inheritance scenario where a class Vehicle has an attribute type. Derive a class Carand further derive a class ElectricCar that adds a battery attribute ((((duplicate question as 3)))"
   ]
  },
  {
   "cell_type": "code",
   "execution_count": 40,
   "id": "f60a04f4-3c1c-4b9b-9245-980b672b1e95",
   "metadata": {},
   "outputs": [
    {
     "name": "stdout",
     "output_type": "stream",
     "text": [
      "Vehicle Type: Electric\n",
      "Car Model: Tesla Model S\n",
      "Battery Capacity: 100 kWh\n"
     ]
    }
   ],
   "source": [
    "# Base class\n",
    "class Vehicle:\n",
    "    def __init__(self, type):\n",
    "        self.type = type\n",
    "\n",
    "    def display_type(self):\n",
    "        print(f\"Vehicle Type: {self.type}\")\n",
    "\n",
    "class Car(Vehicle):\n",
    "    def __init__(self, type, model):\n",
    "        super().__init__(type)  \n",
    "        self.model = model\n",
    "\n",
    "    def display_model(self):\n",
    "        print(f\"Car Model: {self.model}\")\n",
    "\n",
    "class ElectricCar(Car):\n",
    "    def __init__(self, type, model, battery):\n",
    "        super().__init__(type, model)  \n",
    "        self.battery = battery\n",
    "\n",
    "    def display_battery(self):\n",
    "        print(f\"Battery Capacity: {self.battery} kWh\")\n",
    "\n",
    "electric_car = ElectricCar(\"Electric\", \"Tesla Model S\", 100)\n",
    "\n",
    "electric_car.display_type()      \n",
    "electric_car.display_model()     \n",
    "electric_car.display_battery()"
   ]
  },
  {
   "cell_type": "markdown",
   "id": "cf87f916-437c-4f7a-a984-9949c03a40f7",
   "metadata": {},
   "source": [
    "### Q5--- Write a program to demonstrate encapsulation by creating a class BankAccount with private attributes balance and methods to deposit, withdraw, and check balance"
   ]
  },
  {
   "cell_type": "code",
   "execution_count": 41,
   "id": "85ff3043-3cae-4573-846d-44e8b8c6e5bf",
   "metadata": {},
   "outputs": [
    {
     "name": "stdout",
     "output_type": "stream",
     "text": [
      "Deposited: $500\n",
      "Withdrew: $300\n",
      "Current Balance: $1200\n"
     ]
    }
   ],
   "source": [
    "class BankAccount:\n",
    "    def __init__(self, initial_balance):\n",
    "        self.__balance = initial_balance  \n",
    "\n",
    "    def deposit(self, amount):\n",
    "        if amount > 0:\n",
    "            self.__balance += amount\n",
    "            print(f\"Deposited: ${amount}\")\n",
    "        else:\n",
    "            print(\"Deposit amount must be positive.\")\n",
    "\n",
    "    def withdraw(self, amount):\n",
    "        if amount > 0 and amount <= self.__balance:\n",
    "            self.__balance -= amount\n",
    "            print(f\"Withdrew: ${amount}\")\n",
    "        else:\n",
    "            print(\"Insufficient balance or invalid amount.\")\n",
    "    def check_balance(self):\n",
    "        print(f\"Current Balance: ${self.__balance}\")\n",
    "\n",
    "account = BankAccount(1000)\n",
    "\n",
    "account.deposit(500)       \n",
    "account.withdraw(300)       \n",
    "account.check_balance()     \n",
    "\n"
   ]
  },
  {
   "cell_type": "markdown",
   "id": "5f335f77-736b-4f93-bf40-402b1584bc7a",
   "metadata": {},
   "source": [
    "### Q6--- Demonstrate runtime polymorphism using a method play() in a base class Instrument. Derive classes Guitar and Piano that implement their own version of play()"
   ]
  },
  {
   "cell_type": "code",
   "execution_count": 42,
   "id": "cd721d9c-fdc7-470d-bd8b-c9d516c6cf63",
   "metadata": {},
   "outputs": [
    {
     "name": "stdout",
     "output_type": "stream",
     "text": [
      "Playing the Guitar\n",
      "Playing the Piano\n"
     ]
    }
   ],
   "source": [
    "class Instrument:\n",
    "    def play(self):\n",
    "        raise NotImplementedError(\"Subclasses must implement the play method\")\n",
    "\n",
    "class Guitar(Instrument):\n",
    "    def play(self):\n",
    "        print(\"Playing the Guitar\")\n",
    "\n",
    "class Piano(Instrument):\n",
    "    def play(self):\n",
    "        print(\"Playing the Piano\")\n",
    "\n",
    "def perform_instrument(instrument):\n",
    "    instrument.play()  \n",
    "\n",
    "\n",
    "guitar = Guitar()\n",
    "piano = Piano()\n",
    "\n",
    "perform_instrument(guitar)  \n",
    "perform_instrument(piano)   "
   ]
  },
  {
   "cell_type": "markdown",
   "id": "98f7a5a6-f14b-410b-ae40-baa9aaaa9fc4",
   "metadata": {},
   "source": [
    "### Q7---Create a class MathOperations with a class method add_numbers() to add two numbers and a static method subtract_numbers() to subtract two numbers\n"
   ]
  },
  {
   "cell_type": "code",
   "execution_count": 43,
   "id": "b782c12d-f77a-436c-81e1-0ff87181ec7b",
   "metadata": {},
   "outputs": [
    {
     "name": "stdout",
     "output_type": "stream",
     "text": [
      "Sum: 15\n",
      "Difference: 5\n"
     ]
    }
   ],
   "source": [
    "class MathOperations:\n",
    "    @classmethod\n",
    "    def add_numbers(cls, a, b):\n",
    "        return a + b\n",
    "\n",
    "    @staticmethod\n",
    "    def subtract_numbers(a, b):\n",
    "        return a - b\n",
    "\n",
    "sum_result = MathOperations.add_numbers(10, 5)\n",
    "print(f\"Sum: {sum_result}\")  \n",
    "\n",
    "difference_result = MathOperations.subtract_numbers(10, 5)\n",
    "print(f\"Difference: {difference_result}\")  "
   ]
  },
  {
   "cell_type": "markdown",
   "id": "43802467-516a-477f-816c-4834a86ea1a4",
   "metadata": {},
   "source": [
    "### Q8--- Implement a class Person with a class method to count the total number of persons created."
   ]
  },
  {
   "cell_type": "code",
   "execution_count": 54,
   "id": "3b1b659d-30b5-4700-aa9e-8a851a53abac",
   "metadata": {},
   "outputs": [
    {
     "name": "stdout",
     "output_type": "stream",
     "text": [
      "Total number of persons created: 3\n"
     ]
    }
   ],
   "source": [
    "class Person:\n",
    "    total_persons = 0\n",
    "\n",
    "    def __init__(self, name, age):\n",
    "        self.name = name\n",
    "        self.age = age\n",
    "        Person.total_persons += 1\n",
    "\n",
    "    @classmethod\n",
    "    def get_total_persons(cls):\n",
    "        return cls.total_persons\n",
    "\n",
    "person1 = Person(\"Alice\", 30)\n",
    "person2 = Person(\"Bob\", 25)\n",
    "person3 = Person(\"Charlie\", 35)\n",
    "\n",
    "total = Person.get_total_persons()\n",
    "\n",
    "# Displaying the total number of persons\n",
    "print(f\"Total number of persons created: {total}\")"
   ]
  },
  {
   "cell_type": "markdown",
   "id": "587a6440-3a9d-434a-91b1-17961e543b7a",
   "metadata": {},
   "source": [
    "### Q9---Write a class Fraction with attributes numerator and denominator. Override the str method to display the fraction as \"numerator/denominator\"."
   ]
  },
  {
   "cell_type": "code",
   "execution_count": 44,
   "id": "5a9693f2-430c-4a19-9b40-fa04f673dfe8",
   "metadata": {},
   "outputs": [
    {
     "name": "stdout",
     "output_type": "stream",
     "text": [
      "Fraction: 3/4\n"
     ]
    }
   ],
   "source": [
    "class Fraction:\n",
    "    def __init__(self, nmntr, dnmntr):\n",
    "        self.nmntr = nmntr\n",
    "        self.dnmntr = dnmntr\n",
    "\n",
    "    def __str__(self):\n",
    "        return f\"{self.nmntr}/{self.dnmntr}\"\n",
    "\n",
    "fraction = Fraction(3, 4)\n",
    "\n",
    "print(f\"Fraction: {fraction}\")"
   ]
  },
  {
   "cell_type": "markdown",
   "id": "2a06cc51-7ae3-4426-8cce-1d84a84b5be4",
   "metadata": {},
   "source": [
    "### Q10--- Demonstrate operator overloading by creating a class Vector and overriding the add method to add two vectors."
   ]
  },
  {
   "cell_type": "code",
   "execution_count": 45,
   "id": "f91e9d91-c0e3-4828-a19c-837c1c9eeeb0",
   "metadata": {},
   "outputs": [
    {
     "name": "stdout",
     "output_type": "stream",
     "text": [
      "Result of adding vectors: Vector(6, 8)\n"
     ]
    }
   ],
   "source": [
    "class Vector:\n",
    "    def __init__(self, x, y):\n",
    "        self.x = x\n",
    "        self.y = y\n",
    "\n",
    "    def __add__(self, other):\n",
    "        return Vector(self.x + other.x, self.y + other.y)\n",
    "\n",
    "    def __str__(self):\n",
    "        return f\"Vector({self.x}, {self.y})\"\n",
    "\n",
    "vector1 = Vector(2, 3)\n",
    "vector2 = Vector(4, 5)\n",
    "\n",
    "result_vector = vector1 + vector2\n",
    "\n",
    "print(f\"Result of adding vectors: {result_vector}\")"
   ]
  },
  {
   "cell_type": "markdown",
   "id": "572f631b-52e2-4cb8-b9dc-825f29b2e937",
   "metadata": {},
   "source": [
    "### Q11---Create a class Person with attributes name and age. Add a method greet() that prints \"Hello, my name is {name} and I am {age} years old."
   ]
  },
  {
   "cell_type": "code",
   "execution_count": 46,
   "id": "8ddf840f-7655-42aa-bdef-f084eb0e0a07",
   "metadata": {},
   "outputs": [
    {
     "name": "stdout",
     "output_type": "stream",
     "text": [
      "Hello, my name is Alice and I am 30 years old\n"
     ]
    }
   ],
   "source": [
    "class Person:\n",
    "    def __init__(self, name, age):\n",
    "        self.name = name\n",
    "        self.age = age\n",
    "\n",
    "    def greet(self):\n",
    "        print(f\"Hello, my name is {self.name} and I am {self.age} years old\")\n",
    "\n",
    "person = Person(\"Alice\", 30)\n",
    "\n",
    "person.greet()"
   ]
  },
  {
   "cell_type": "markdown",
   "id": "6716814f-746b-4b49-8bce-8367566e64d3",
   "metadata": {},
   "source": [
    "### Q12---  Implement a class Student with attributes name and grades. Create a method average_grade() to compute the average of the grades"
   ]
  },
  {
   "cell_type": "code",
   "execution_count": 47,
   "id": "564181a0-de21-4ae6-bdd6-11f89c1c146b",
   "metadata": {},
   "outputs": [
    {
     "name": "stdout",
     "output_type": "stream",
     "text": [
      "John Doe's average grade: 86.6\n"
     ]
    }
   ],
   "source": [
    "class Student:\n",
    "    def __init__(self, name, grades):\n",
    "        self.name = name\n",
    "        self.grades = grades\n",
    "\n",
    "    def average_grade(self):\n",
    "        return sum(self.grades) / len(self.grades) if self.grades else 0\n",
    "\n",
    "student = Student(\"John Doe\", [85, 90, 78, 92, 88])\n",
    "\n",
    "avg_grade = student.average_grade()\n",
    "print(f\"{student.name}'s average grade: {avg_grade}\")"
   ]
  },
  {
   "cell_type": "markdown",
   "id": "2ecae9d4-dc43-4005-b95e-21da358a3f03",
   "metadata": {},
   "source": [
    "### Q13---Create a class Rectangle with methods set_dimensions() to set the dimensions and area() to calculate the area.\n"
   ]
  },
  {
   "cell_type": "code",
   "execution_count": 48,
   "id": "5e472741-60bd-4557-b320-48071a364389",
   "metadata": {},
   "outputs": [
    {
     "name": "stdout",
     "output_type": "stream",
     "text": [
      "Area of the rectangle: 15\n"
     ]
    }
   ],
   "source": [
    "class Rectangle:\n",
    "    def __init__(self):\n",
    "        self.length = 0\n",
    "        self.width = 0\n",
    "\n",
    "    def set_dimensions(self, length, width):\n",
    "        self.length = length\n",
    "        self.width = width\n",
    "\n",
    "    def area(self):\n",
    "        return self.length * self.width\n",
    "\n",
    "rectangle = Rectangle()\n",
    "\n",
    "rectangle.set_dimensions(5, 3)\n",
    "\n",
    "area = rectangle.area()\n",
    "print(f\"Area of the rectangle: {area}\")"
   ]
  },
  {
   "cell_type": "markdown",
   "id": "14bf107b-7461-4506-a9f9-6533059a0911",
   "metadata": {},
   "source": [
    "### Q14--Create a class Employee with a method calculate_salary() that computes the salary based on hours worked and hourly rate. Create a derived class Manager that adds a bonus to the salary"
   ]
  },
  {
   "cell_type": "code",
   "execution_count": 49,
   "id": "55b8e76d-033e-4372-8812-f0667c6ac7b9",
   "metadata": {},
   "outputs": [
    {
     "name": "stdout",
     "output_type": "stream",
     "text": [
      "Employee Salary: $800\n",
      "Manager Salary (with bonus): $2200\n"
     ]
    }
   ],
   "source": [
    "class Employee:\n",
    "    def __init__(self, name, hours_worked, hourly_rate):\n",
    "        self.name = name\n",
    "        self.hours_worked = hours_worked\n",
    "        self.hourly_rate = hourly_rate\n",
    "\n",
    "    def calculate_salary(self):\n",
    "        return self.hours_worked * self.hourly_rate\n",
    "\n",
    "class Manager(Employee):\n",
    "    def __init__(self, name, hours_worked, hourly_rate, bonus):\n",
    "        super().__init__(name, hours_worked, hourly_rate)\n",
    "        self.bonus = bonus\n",
    "\n",
    "    def calculate_salary(self):\n",
    "        base_salary = super().calculate_salary() \n",
    "        return base_salary + self.bonus \n",
    "employee = Employee(\"John\", 40, 20)\n",
    "\n",
    "manager = Manager(\"Alice\", 40, 30, 1000)\n",
    "\n",
    "employee_salary = employee.calculate_salary()\n",
    "manager_salary = manager.calculate_salary()\n",
    "\n",
    "print(f\"Employee Salary: ${employee_salary}\")\n",
    "print(f\"Manager Salary (with bonus): ${manager_salary}\")"
   ]
  },
  {
   "cell_type": "markdown",
   "id": "ce666a16-c084-4f86-ae63-ea842a39dd15",
   "metadata": {},
   "source": [
    "### Q15---Create a class Product with attributes name, price, and quantity. Implement a method total_price() that calculates the total price of the product"
   ]
  },
  {
   "cell_type": "code",
   "execution_count": 50,
   "id": "c27664dc-bfc8-42f5-b275-5a3c5fe859c5",
   "metadata": {},
   "outputs": [
    {
     "name": "stdout",
     "output_type": "stream",
     "text": [
      "Total price for 3 Laptop(s): $3000\n"
     ]
    }
   ],
   "source": [
    "class Product:\n",
    "    def __init__(self, name, price, quantity):\n",
    "        self.name = name\n",
    "        self.price = price\n",
    "        self.quantity = quantity\n",
    "\n",
    "    def total_price(self):\n",
    "        return self.price * self.quantity\n",
    "\n",
    "product = Product(\"Laptop\", 1000, 3)\n",
    "\n",
    "total = product.total_price()\n",
    "\n",
    "print(f\"Total price for {product.quantity} {product.name}(s): ${total}\")"
   ]
  },
  {
   "cell_type": "markdown",
   "id": "500fec13-140e-489f-8864-378aab6cba9e",
   "metadata": {},
   "source": [
    "### Q16---Create a class Animal with an abstract method sound(). Create two derived classes Cow and Sheep that implement the sound() method"
   ]
  },
  {
   "cell_type": "code",
   "execution_count": 51,
   "id": "fe0b817f-8569-42dc-9c50-a998f34ed499",
   "metadata": {},
   "outputs": [
    {
     "name": "stdout",
     "output_type": "stream",
     "text": [
      "Cow sound: Moo\n",
      "Sheep sound: Baa\n"
     ]
    }
   ],
   "source": [
    "from abc import ABC, abstractmethod\n",
    "\n",
    "class Animal(ABC):\n",
    "    @abstractmethod\n",
    "    def sound(self):\n",
    "        pass\n",
    "\n",
    "class Cow(Animal):\n",
    "    def sound(self):\n",
    "        return \"Moo\"\n",
    "\n",
    "class Sheep(Animal):\n",
    "    def sound(self):\n",
    "        return \"Baa\"\n",
    "\n",
    "cow = Cow()\n",
    "sheep = Sheep()\n",
    "\n",
    "print(f\"Cow sound: {cow.sound()}\")\n",
    "print(f\"Sheep sound: {sheep.sound()}\")"
   ]
  },
  {
   "cell_type": "markdown",
   "id": "8439f172-eb1d-4698-a13f-a916f3aa1a77",
   "metadata": {},
   "source": [
    "### Q17---  Create a class Book with attributes title, author, and year_published. Add a method get_book_info() that returns a formatted string with the book's details"
   ]
  },
  {
   "cell_type": "code",
   "execution_count": 52,
   "id": "269909f6-9522-4d1e-8822-003a6baaa3f8",
   "metadata": {},
   "outputs": [
    {
     "name": "stdout",
     "output_type": "stream",
     "text": [
      "Title: To Kill a Mockingbird\n",
      "Author: Harper Lee\n",
      "Year Published: 1960\n"
     ]
    }
   ],
   "source": [
    "class Book:\n",
    "    def __init__(self, title, author, year_published):\n",
    "        self.title = title\n",
    "        self.author = author\n",
    "        self.year_published = year_published\n",
    "\n",
    "    def get_book_info(self):\n",
    "        return \"Title: {}\\nAuthor: {}\\nYear Published: {}\".format(self.title, self.author, self.year_published)\n",
    "\n",
    "book = Book(\"To Kill a Mockingbird\", \"Harper Lee\", 1960)\n",
    "\n",
    "book_info = book.get_book_info()\n",
    "print(book_info)"
   ]
  },
  {
   "cell_type": "markdown",
   "id": "bfe77516-bed5-40ee-89a7-6a3f40500d9c",
   "metadata": {},
   "source": [
    "### Q18---Create a class House with attributes address and price. Create a derived class Mansion that adds an attribute number_of_rooms."
   ]
  },
  {
   "cell_type": "code",
   "execution_count": 53,
   "id": "c7a2a5fc-9888-4319-8cdb-fa59f0a1eab8",
   "metadata": {},
   "outputs": [
    {
     "name": "stdout",
     "output_type": "stream",
     "text": [
      "Address: 123 Luxury St, Beverly Hills\n",
      "Price: $5000000\n",
      "Number of Rooms: 10\n"
     ]
    }
   ],
   "source": [
    "class House:\n",
    "    def __init__(self, address, price):\n",
    "        self.address = address\n",
    "        self.price = price\n",
    "\n",
    "    def display_info(self):\n",
    "        print(f\"Address: {self.address}\")\n",
    "        print(f\"Price: ${self.price}\")\n",
    "\n",
    "class Mansion(House):\n",
    "    def __init__(self, address, price, number_of_rooms):\n",
    "        super().__init__(address, price)  \n",
    "        self.number_of_rooms = number_of_rooms\n",
    "\n",
    "    def display_mansion_info(self):\n",
    "        self.display_info()  \n",
    "        print(f\"Number of Rooms: {self.number_of_rooms}\")\n",
    "\n",
    "mansion = Mansion(\"123 Luxury St, Beverly Hills\", 5000000, 10)\n",
    "\n",
    "mansion.display_mansion_info()"
   ]
  }
 ],
 "metadata": {
  "kernelspec": {
   "display_name": "Python 3 (ipykernel)",
   "language": "python",
   "name": "python3"
  },
  "language_info": {
   "codemirror_mode": {
    "name": "ipython",
    "version": 3
   },
   "file_extension": ".py",
   "mimetype": "text/x-python",
   "name": "python",
   "nbconvert_exporter": "python",
   "pygments_lexer": "ipython3",
   "version": "3.12.1"
  }
 },
 "nbformat": 4,
 "nbformat_minor": 5
}
