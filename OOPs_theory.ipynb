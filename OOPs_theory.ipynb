{
 "cells": [
  {
   "cell_type": "markdown",
   "id": "7cb382a2-d76c-4fc7-bfb3-7d7c29c2346c",
   "metadata": {},
   "source": [
    "#                                                  OOPs Theory"
   ]
  },
  {
   "cell_type": "markdown",
   "id": "d9c8f27f-69e4-4282-b80b-a5b64cb4561a",
   "metadata": {},
   "source": [
    "### Q1--What is Object-Oriented Programming (OOP)?"
   ]
  },
  {
   "cell_type": "markdown",
   "id": "acf59f20-08ad-4b20-b38e-34769cd6858b",
   "metadata": {},
   "source": [
    "Object-Oriented Programming (OOP) in Python is a programming paradigm that organizes code into reusable units called classes, which represent blueprints for creating objects. It emphasizes concepts like inheritance, encapsulation, polymorphism, and abstraction to model real-world entities and relationships"
   ]
  },
  {
   "cell_type": "markdown",
   "id": "a38f720c-4368-42a1-b295-5785e306a896",
   "metadata": {},
   "source": [
    "### Q2--What is a class in OOP?"
   ]
  },
  {
   "cell_type": "markdown",
   "id": "6fe733ee-c826-4faa-a7f0-c9061aadbbb3",
   "metadata": {},
   "source": [
    "a class is a blueprint or template for creating objects. It defines the attributes (data) and methods (functions) that the objects created from the class will have."
   ]
  },
  {
   "cell_type": "markdown",
   "id": "360f8fd4-ebac-4c76-a6cb-c361e0cce019",
   "metadata": {},
   "source": [
    "### Q3--What is an object in OOP?"
   ]
  },
  {
   "cell_type": "markdown",
   "id": "f28df7bb-ff5d-436f-a429-48aeef70a145",
   "metadata": {},
   "source": [
    "an object is an instance of a class. It represents a specific entity that contains attributes (data) and can perform methods (functions), as defined by its class."
   ]
  },
  {
   "cell_type": "markdown",
   "id": "08adfc81-d407-4bcb-8068-9e4109e50332",
   "metadata": {},
   "source": [
    "### Q4--What is the difference between abstraction and encapsulation?"
   ]
  },
  {
   "cell_type": "markdown",
   "id": "cf5c27a0-de76-4f05-8e4a-66777c78f08c",
   "metadata": {},
   "source": [
    "Abstraction focuses on hiding the implementation details and showing only the essential features of an object, \n",
    "Encapsulation focuses on bundling data and methods together while restricting access to internal details, \n",
    "Abstraction simplifies complexity, while encapsulation protects data."
   ]
  },
  {
   "cell_type": "markdown",
   "id": "1ff1f03d-a8ac-4acd-863f-a0c456aa5edd",
   "metadata": {},
   "source": [
    "### Q5--What are dunder methods in Python?"
   ]
  },
  {
   "cell_type": "markdown",
   "id": "ebcadfce-6443-40b8-9bef-6984d8375e48",
   "metadata": {},
   "source": [
    "Dunder methods are the methods in Python surrounded by double underscores, like __init__, __str__. They enable objects to have built-in behavior for operations such as initialization, string representation, arithmetic, comparison, and more."
   ]
  },
  {
   "cell_type": "markdown",
   "id": "6b75c87f-8d7b-41ef-b3e4-70ce379ccdc4",
   "metadata": {},
   "source": [
    "### Q6--Explain the concept of inheritance in OOP?"
   ]
  },
  {
   "cell_type": "markdown",
   "id": "fe653c0f-066b-4c8d-9362-9874f0608eee",
   "metadata": {},
   "source": [
    "Inheritance in OOP is a mechanism that allows one class (child class )to acquire the properties and behaviors (attributes and methods) of another class (parent class ). It enables code reusability and hierarchical relationships between classes."
   ]
  },
  {
   "cell_type": "markdown",
   "id": "0ef8e6f5-e2d5-44b6-b448-c3b5092adba9",
   "metadata": {},
   "source": [
    "### Q7--What is polymorphism in OOP?"
   ]
  },
  {
   "cell_type": "markdown",
   "id": "a297ddd3-9f8d-41dc-9168-806dab1ca4ea",
   "metadata": {},
   "source": [
    "Polymorphism in OOP is the ability of objects to take on many forms, allowing a single interface to represent different types of objects. It enables methods or operations to behave differently based on the object invoking them.\n"
   ]
  },
  {
   "cell_type": "code",
   "execution_count": 32,
   "id": "166aea9c-ccbf-403b-ba26-ae0c0d87db6d",
   "metadata": {},
   "outputs": [
    {
     "name": "stdout",
     "output_type": "stream",
     "text": [
      "Bark\n",
      "Meow\n",
      "Some generic animal sound\n"
     ]
    }
   ],
   "source": [
    "class Animal:\n",
    "    def sound(self):\n",
    "        return \"Some generic animal sound\"\n",
    "\n",
    "class Dog(Animal):\n",
    "    def sound(self):\n",
    "        return \"Bark\"\n",
    "\n",
    "class Cat(Animal):\n",
    "    def sound(self):\n",
    "        return \"Meow\"\n",
    "\n",
    "animals = [Dog(), Cat(), Animal()]\n",
    "for animal in animals:\n",
    "    print(animal.sound())"
   ]
  },
  {
   "cell_type": "markdown",
   "id": "fe60b3fd-2f8b-4b42-b7f4-caf0302941c2",
   "metadata": {},
   "source": [
    "### Q8--How is encapsulation achieved in Python"
   ]
  },
  {
   "cell_type": "markdown",
   "id": "015bdcd2-0338-4a0d-9660-73f362330f5b",
   "metadata": {},
   "source": [
    "Encapsulation in Python is achieved by restricting access to attributes and methods using access modifiers: public, protected (_), and private (__). Private attributes are accessed indirectly using getter and setter methods for controlled interaction. This ensures data security and hides internal details from external interference."
   ]
  },
  {
   "cell_type": "markdown",
   "id": "e69b4ecc-cead-4f15-8df3-26947ac06229",
   "metadata": {},
   "source": [
    "### Q9--What is a constructor in Python"
   ]
  },
  {
   "cell_type": "markdown",
   "id": "65047c2a-dd5f-4ae9-96fc-ce0806ca5bc4",
   "metadata": {},
   "source": [
    "A constructor in Python is a special method, __init__(), used to initialize an object’s attributes when it is created. It is called automatically when a new object of the class is instantiated.\n"
   ]
  },
  {
   "cell_type": "markdown",
   "id": "e4c4ae50-1546-405d-b5df-d58928ea3a30",
   "metadata": {},
   "source": [
    "### Q10-- What are class and static methods in Python"
   ]
  },
  {
   "cell_type": "markdown",
   "id": "a07ac027-aa06-4a3f-8f3a-a016db7c08fc",
   "metadata": {},
   "source": [
    "Class methods are bound to the class and can access or modify class-level attributes, using @classmethod and cls as the first parameter.\n",
    "Static methods do not access or modify class/instance state and are used like regular functions within the class, defined with @staticmethod.\n",
    "Class methods modify class state, while static methods are independent of class or instance state."
   ]
  },
  {
   "cell_type": "markdown",
   "id": "6c52b24c-4b97-40d6-895b-22124e634b42",
   "metadata": {},
   "source": [
    "### Q11--What is method overloading in Python?"
   ]
  },
  {
   "cell_type": "markdown",
   "id": "9986be21-e1d4-422e-90ad-0ccaf0d641b1",
   "metadata": {},
   "source": [
    "Method overloading in Python refers to defining multiple methods with the same name but different parameters (either in number or type). However, Python does not support method overloading directly like other languages (e.g., Java or C++). Instead, Python allows default arguments or variable-length argument lists to achieve similar behavior.\n"
   ]
  },
  {
   "cell_type": "markdown",
   "id": "0861e8e7-e838-498b-ad29-a9a8f85ee65d",
   "metadata": {},
   "source": [
    "### Q12--What is method overriding in OOP"
   ]
  },
  {
   "cell_type": "markdown",
   "id": "48ada0cd-404e-45d4-90f2-a3bdfc1e3d58",
   "metadata": {},
   "source": [
    "Method overloading in Python refers to defining multiple methods with the same name but different parameters (either in number or type).  it allows default arguments or variable-length argument lists to achieve similar behavior."
   ]
  },
  {
   "cell_type": "markdown",
   "id": "f8ed22d4-e8c9-4fbc-8b53-1b8c6a77f6e1",
   "metadata": {},
   "source": [
    "### Q13--What is a property decorator in Python"
   ]
  },
  {
   "cell_type": "markdown",
   "id": "2ee919dc-12c5-42c9-a1f0-28fd8e24b389",
   "metadata": {},
   "source": [
    "The @property decorator in Python is used to define a method as a property. A property allows you to define a method that can be accessed like an attribute, without directly calling it as a method. It is commonly used to implement getter methods that provide read-only access to an object’s attributes."
   ]
  },
  {
   "cell_type": "markdown",
   "id": "17cb0810-e497-4b6a-80b4-3b04fb08e3cf",
   "metadata": {},
   "source": [
    "### Q14--Why is polymorphism important in OOP"
   ]
  },
  {
   "cell_type": "markdown",
   "id": "2f2092f8-67ac-4ebb-9039-a08a1036c201",
   "metadata": {},
   "source": [
    "because it allows for flexibility and scalability in code. It enables objects of different classes to be treated as objects of a common superclass, allowing the same method to behave differently based on the object’s type. This improves code reuse, reduces redundancy, and allows for easier maintenance."
   ]
  },
  {
   "cell_type": "markdown",
   "id": "1ad1e23f-36e3-457b-9310-01de9182bc34",
   "metadata": {},
   "source": [
    "### Q15--What is an abstract class in Python"
   ]
  },
  {
   "cell_type": "markdown",
   "id": "3de0494e-29c6-48ed-a2ca-af66d4349a31",
   "metadata": {},
   "source": [
    "An abstract class in Python is a class that cannot be instantiated directly ,that must be implemented by subclasses. It is defined using the ABC module and the @abstractmethod decorator. Abstract classes provide a blueprint for other classes, enforcing consistency and ensuring required methods are defined in subclasses."
   ]
  },
  {
   "cell_type": "markdown",
   "id": "5264d017-4e9b-4f5b-b5e1-3bebdc19b60d",
   "metadata": {},
   "source": [
    "### Q16--What are the advantages of OOP"
   ]
  },
  {
   "cell_type": "markdown",
   "id": "9a954e82-6b8c-46ad-a8a2-d4449ffc2735",
   "metadata": {},
   "source": [
    "The advantages of OOP include modularity (easier management and testing)\n",
    "reusability (code can be reused in different programs), \n",
    "scalability (easy to add new features), \n",
    "maintainability (simplified debugging and updates),\n",
    "abstraction (hides complexity), \n",
    "polymorphism (flexibility in handling different objects), and security (controlled access to data through encapsulation)."
   ]
  },
  {
   "cell_type": "markdown",
   "id": "c92852b8-e5cd-4117-a76b-08b498372c04",
   "metadata": {},
   "source": [
    "### Q17--What is the difference between a class variable and an instance variable"
   ]
  },
  {
   "cell_type": "markdown",
   "id": "66823ab2-e90e-4930-b82a-b149189bd992",
   "metadata": {},
   "source": [
    "A class variable is shared by all instances of the class, while an instance variable is unique to each object created from the class. Class variables are defined inside the class but outside methods, whereas instance variables are defined inside the __init__() method using self."
   ]
  },
  {
   "cell_type": "markdown",
   "id": "a1626f8f-582d-4166-9e4f-610d5bb0cdc9",
   "metadata": {},
   "source": [
    "### Q18--What is multiple inheritance in Python"
   ]
  },
  {
   "cell_type": "markdown",
   "id": "7f017930-c66e-472d-a67b-5c8522c0e5c9",
   "metadata": {},
   "source": [
    "Multiple inheritance in Python is a feature where a class can inherit attributes and methods from more than one parent class. This allows a class to combine functionalities from multiple classes."
   ]
  },
  {
   "cell_type": "markdown",
   "id": "f82c4b12-136a-4afc-afcd-b3c95fa50c40",
   "metadata": {},
   "source": [
    "### Q19--Explain the purpose of ‘’__str__’ and ‘__repr__’ ‘ methods in Python"
   ]
  },
  {
   "cell_type": "markdown",
   "id": "b73db5ea-668d-4db0-b6b6-d23f4a92563f",
   "metadata": {},
   "source": [
    "The __str__() method is used to define a user-friendly, readable string representation of an object, typically used when printing an object or converting it to a string with str(). Its purpose is to provide a more intuitive and human-readable output.\n",
    "\n",
    "The __repr__() method is used to define an unambiguous string representation, often aimed at developers and debugging. It is called by repr() and in the interactive shell, and it typically includes information that could recreate the object."
   ]
  },
  {
   "cell_type": "markdown",
   "id": "d427655e-f88c-4005-b494-75dedefb443c",
   "metadata": {},
   "source": [
    "### Q20--What is the significance of the ‘super()’ function in Python"
   ]
  },
  {
   "cell_type": "markdown",
   "id": "0ed9c411-8ec0-4ccb-b7ad-a2f87787944c",
   "metadata": {},
   "source": [
    "The super() function in Python is used to call a method from a parent class in a subclass. It is primarily used to access the methods of a superclass in the context of inheritance, and it’s particularly useful when dealing with multiple inheritance. The function helps avoid hardcoding the parent class name, allowing the code to be more flexible and easier to maintain.\n"
   ]
  },
  {
   "cell_type": "markdown",
   "id": "5f77fb6d-0f3a-432c-9d28-362d6aa8ecd8",
   "metadata": {},
   "source": [
    "### Q21--What is the significance of the __del__ method in Python?"
   ]
  },
  {
   "cell_type": "markdown",
   "id": "e59b4270-bd31-4966-a5de-0806ff9c4937",
   "metadata": {},
   "source": [
    "The del statement in Python is used to delete variables, elements from data structures, or object attributes, freeing up memory. It helps manage memory by removing unused objects and allows for dynamic modification of data structures like lists and dictionaries. The del statement can also be used to delete specific items or slices within these structures."
   ]
  },
  {
   "cell_type": "markdown",
   "id": "bdc24f27-a745-4d3f-9462-7f94c57058f8",
   "metadata": {},
   "source": [
    "### Q22--What is the difference between @staticmethod and @classmethod in Python?"
   ]
  },
  {
   "cell_type": "markdown",
   "id": "b98d6f8c-a14a-47f7-b20c-78d0a9be1ba0",
   "metadata": {},
   "source": [
    "@staticmethod is a method that does not take any reference to the class or instance (no self or cls), and it cannot access or modify class or instance attributes. It behaves like a regular function but is part of the class’s namespace. On the other hand, @classmethod takes a reference to the class (cls) as its first argument, allowing it to access and modify class-level attributes, but it cannot access instance-specific data."
   ]
  },
  {
   "cell_type": "markdown",
   "id": "bc9e19d3-26cf-4322-b3a6-58c36fb7ad64",
   "metadata": {},
   "source": [
    "### Q23--How does polymorphism work in Python with inheritance?"
   ]
  },
  {
   "cell_type": "markdown",
   "id": "73ba6d7a-63bb-45b7-ad7d-4a5b8ecfbb0c",
   "metadata": {},
   "source": [
    "in Python, polymorphism works with inheritance by allowing objects of different classes to be treated as objects of a common superclass. This allows for method overriding, where a method in a subclass has the same name as one in the superclass but provides a different implementation. The correct method is called based on the object’s actual class type at runtime."
   ]
  },
  {
   "cell_type": "code",
   "execution_count": 33,
   "id": "5aed8a8e-31e0-4987-ac17-55a5926ea9b9",
   "metadata": {},
   "outputs": [
    {
     "name": "stdout",
     "output_type": "stream",
     "text": [
      "Dog barks\n",
      "Cat meows\n"
     ]
    }
   ],
   "source": [
    "class Animal:\n",
    "    def speak(self):\n",
    "        print(\"Animal speaks\")\n",
    "\n",
    "class Dog(Animal):\n",
    "    def speak(self):\n",
    "        print(\"Dog barks\")\n",
    "\n",
    "class Cat(Animal):\n",
    "    def speak(self):\n",
    "        print(\"Cat meows\")\n",
    "\n",
    "def animal_sound(animal):\n",
    "    animal.speak()  \n",
    "\n",
    "dog = Dog()\n",
    "cat = Cat()\n",
    "\n",
    "animal_sound(dog) \n",
    "animal_sound(cat) "
   ]
  },
  {
   "cell_type": "markdown",
   "id": "7923e058-e339-4c31-9d2e-d11f857f8c8d",
   "metadata": {},
   "source": [
    "### Q24--What is method chaining in Python OOP?"
   ]
  },
  {
   "cell_type": "markdown",
   "id": "7c18482b-5401-4a7d-9824-32c89927a330",
   "metadata": {},
   "source": [
    "Method chaining in Python OOP refers to the practice of calling multiple methods on the same object in a single statement. This is possible when each method returns the object itself (i.e., it returns self), allowing subsequent method calls to be chained together.\n"
   ]
  },
  {
   "cell_type": "code",
   "execution_count": 34,
   "id": "44e24148-d169-4bde-908e-283892b50589",
   "metadata": {},
   "outputs": [
    {
     "name": "stdout",
     "output_type": "stream",
     "text": [
      "4\n"
     ]
    }
   ],
   "source": [
    "class Calculator:\n",
    "    def __init__(self, value=0):\n",
    "        self.value = value\n",
    "\n",
    "    def add(self, num):\n",
    "        self.value += num\n",
    "        return self  \n",
    "\n",
    "    def subtract(self, num):\n",
    "        self.value -= num\n",
    "        return self \n",
    "    def multiply(self, num):\n",
    "        self.value *= num\n",
    "        return self \n",
    "\n",
    "    def result(self):\n",
    "        return self.value\n",
    "\n",
    "calc = Calculator()\n",
    "final_result = calc.add(5).subtract(3).multiply(2).result()\n",
    "print(final_result) "
   ]
  },
  {
   "cell_type": "markdown",
   "id": "c9109510-449c-4145-b61d-12f5ae06214d",
   "metadata": {},
   "source": [
    "### Q25--What is the purpose of the __call__ method in Python?"
   ]
  },
  {
   "cell_type": "markdown",
   "id": "91d16c6d-37ee-4713-9899-6b630e5cb29f",
   "metadata": {},
   "source": [
    "The __call__ method in Python is a special method that allows an instance of a class to be called as if it were a function. When an object of a class with a __call__ method is called, Python invokes this method. This is useful for making objects behave like functions, allowing them to be more flexible and reusable."
   ]
  },
  {
   "cell_type": "code",
   "execution_count": null,
   "id": "25c2fd8d-3cd5-4aeb-a51e-968b9667cdde",
   "metadata": {},
   "outputs": [],
   "source": []
  },
  {
   "cell_type": "code",
   "execution_count": null,
   "id": "be6d253f-f3d4-42b9-9ea1-608c9fc831ce",
   "metadata": {},
   "outputs": [],
   "source": []
  }
 ],
 "metadata": {
  "kernelspec": {
   "display_name": "Python 3 (ipykernel)",
   "language": "python",
   "name": "python3"
  },
  "language_info": {
   "codemirror_mode": {
    "name": "ipython",
    "version": 3
   },
   "file_extension": ".py",
   "mimetype": "text/x-python",
   "name": "python",
   "nbconvert_exporter": "python",
   "pygments_lexer": "ipython3",
   "version": "3.12.1"
  }
 },
 "nbformat": 4,
 "nbformat_minor": 5
}
